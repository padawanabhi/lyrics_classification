{
 "cells": [
  {
   "cell_type": "markdown",
   "id": "fba45a8b",
   "metadata": {},
   "source": [
    "# Lyrics Classification Weekly Project"
   ]
  },
  {
   "cell_type": "markdown",
   "id": "24b03f8f",
   "metadata": {},
   "source": [
    "## Import Libraries"
   ]
  },
  {
   "cell_type": "code",
   "execution_count": 10,
   "id": "9e14db02",
   "metadata": {},
   "outputs": [],
   "source": [
    "import string\n",
    "import re\n",
    "import random\n",
    "import requests\n",
    "import time\n",
    "import os\n",
    "\n",
    "import matplotlib.pyplot as plt\n",
    "import seaborn as sns\n",
    "%matplotlib inline\n",
    "\n",
    "import contractions\n",
    "\n",
    "from bs4 import BeautifulSoup\n",
    "\n",
    "import pattern\n",
    "from pattern.en import lemma, lexeme\n",
    "\n",
    "from textblob import TextBlob, Word\n",
    "\n",
    "import nltk \n",
    "from nltk.stem import WordNetLemmatizer\n",
    "from nltk.tokenize import TreebankWordTokenizer\n",
    "from nltk.tokenize import word_tokenize\n",
    "from nltk.stem import wordnet\n",
    "from nltk import pos_tag\n",
    "\n",
    "\n",
    "from sklearn.feature_extraction.text import CountVectorizer, TfidfTransformer\n",
    "from sklearn.model_selection import train_test_split\n",
    "from sklearn.naive_bayes import MultinomialNB\n",
    "from sklearn.linear_model import LogisticRegression\n",
    "from sklearn.ensemble import RandomForestClassifier, GradientBoostingClassifier\n",
    "from sklearn.metrics import confusion_matrix, accuracy_score, recall_score, precision_score, f1_score"
   ]
  },
  {
   "cell_type": "markdown",
   "id": "d257efbc",
   "metadata": {},
   "source": [
    "## Headers for requests (To avoid getting blocked)"
   ]
  },
  {
   "cell_type": "code",
   "execution_count": 11,
   "id": "03b557af",
   "metadata": {},
   "outputs": [],
   "source": [
    "header1 = {'User-Agent': 'Mozilla/5.0 (Macintosh; Intel Mac OS X 10_10_1) AppleWebKit/537.36 (KHTML, like Gecko) Chrome/39.0.2171.95 Safari/537.36'}\n",
    "header2 = {'User-Agent': 'Mozilla/5.0 (Macintosh; Intel Mac OS X 10_15_7) AppleWebKit/605.1.15 (KHTML, like Gecko) Version/16.0 Safari/605.1.15'}\n",
    "header3 = {'User_Agent': 'Mozilla/5.0 (Macintosh; Intel Mac OS X 10_15_7) AppleWebKit/537.36 (KHTML, like Gecko) Chrome/106.0.0.0 Safari/537.36'}"
   ]
  },
  {
   "cell_type": "code",
   "execution_count": 12,
   "id": "35956327",
   "metadata": {},
   "outputs": [],
   "source": [
    "HEADERS = [header1, header2, header3]"
   ]
  },
  {
   "cell_type": "markdown",
   "id": "c3736051",
   "metadata": {},
   "source": [
    "## Function to scrape links of songs for an Artist"
   ]
  },
  {
   "cell_type": "code",
   "execution_count": 13,
   "id": "6c69588d",
   "metadata": {},
   "outputs": [],
   "source": [
    "def lyrics_scrapper(artist):\n",
    "    \"\"\"\n",
    "    Web scrapper for extracting links of song lyrics from songtexte.de for the artist.\n",
    "    \n",
    "    Argument\n",
    "    -----------------\n",
    "    artist : str\n",
    "    \n",
    "    The name of an artist or band\n",
    "    \n",
    "    Returns\n",
    "    ------------------\n",
    "    song_list : list\n",
    "    \n",
    "    \"\"\"\n",
    "    artist = artist.lower()\n",
    "    names = artist.split()\n",
    "    search = \"\"\n",
    "    for name in names:\n",
    "        if search == \"\":\n",
    "            search = name\n",
    "        else:\n",
    "            search = search + \"+\"  + name\n",
    "    param = {'q': search, 'c': 'all'}\n",
    "    search_request = requests.get('https://www.songtexte.com/search', params=param)\n",
    "    search_request = search_request.text\n",
    "    search_soup = BeautifulSoup(search_request, 'html.parser')\n",
    "    search_soup_link = search_soup.find('a', class_='topHitLink').get('href')\n",
    "    main_link = 'https://www.songtexte.com/'\n",
    "    search_link = main_link + search_soup_link\n",
    "    \n",
    "    song_request = requests.get(search_link)\n",
    "    song_request = song_request.text\n",
    "    song_soup = BeautifulSoup(song_request, 'html.parser')\n",
    "    lyricsoup = song_soup.find('div', class_='albumList', id=True).find_all('a', class_='nested')\n",
    "    \n",
    "    song_list = []\n",
    "    for lyric in lyricsoup:\n",
    "        temp_link = lyric.get('href')\n",
    "        song_list.append(temp_link[2:])\n",
    "      \n",
    "        \n",
    "    return song_list, artist"
   ]
  },
  {
   "cell_type": "markdown",
   "id": "4758f376",
   "metadata": {},
   "source": [
    "## Function to save the songs from a list of links"
   ]
  },
  {
   "cell_type": "code",
   "execution_count": 14,
   "id": "da6afaac",
   "metadata": {},
   "outputs": [],
   "source": [
    "def save_songs(list, artist):\n",
    "    link = 'https://www.songtexte.com'\n",
    "    artist_lower = artist.lower()\n",
    "    foldername = \"\".join(artist_lower.split())\n",
    "    if not os.path.exists(f'./{foldername}'):\n",
    "        os.mkdir(f'./{foldername}/')\n",
    "    for song in list:\n",
    "        filename = song[-13:]\n",
    "        song_link = song\n",
    "        request = requests.get(link + song_link, headers = random.choice(HEADERS))\n",
    "        temp = request.text\n",
    "        songsoup = BeautifulSoup(temp, 'html.parser')\n",
    "        song = songsoup.find('div', id='lyrics').get_text()\n",
    "        if len(song) < 500:\n",
    "            continue\n",
    "        f = open(f'./{foldername}/'+ filename , \"w\")\n",
    "        f.write(song)\n",
    "        f.close()\n",
    "        time.sleep(10)\n"
   ]
  },
  {
   "cell_type": "markdown",
   "id": "dfc2eea3",
   "metadata": {},
   "source": [
    "## Function to get pos_tags for WordNetLemmatizer()"
   ]
  },
  {
   "cell_type": "code",
   "execution_count": 15,
   "id": "323d6bbc",
   "metadata": {},
   "outputs": [],
   "source": [
    "def get_pos(word):\n",
    "    \"\"\"\n",
    "    Map POS tag to first character which WordNetLemmatizer().lemmatize() accepts\n",
    "    \n",
    "    Argument\n",
    "    ----------------\n",
    "    word : str\n",
    "    \n",
    "    Word to lemmatize\n",
    "    \n",
    "    Return\n",
    "    ---------------\n",
    "    Single character pos tag for the input word\n",
    "    \n",
    "    \"\"\"\n",
    "    \n",
    "    tag = nltk.pos_tag([word])[0][1][0].upper()\n",
    "    tag_dict = {\"J\": wordnet.wn.ADJ,\n",
    "                \"N\": wordnet.wn.NOUN,\n",
    "                \"V\": wordnet.wn.VERB,\n",
    "                \"R\": wordnet.wn.ADV}\n",
    "\n",
    "    return tag_dict.get(tag, wordnet.wn.NOUN)"
   ]
  },
  {
   "cell_type": "markdown",
   "id": "a1df0614",
   "metadata": {},
   "source": [
    "## Function to find tags and then lemmatize for TextBlob"
   ]
  },
  {
   "cell_type": "code",
   "execution_count": 16,
   "id": "99c03a36",
   "metadata": {},
   "outputs": [],
   "source": [
    "def lemmatize_with_postag(song):\n",
    "    \"\"\"\n",
    "    Map POS tag to first character which Textblob lemmatizer accepts. The functiobn then will \n",
    "    lemmatize and return the string\n",
    "    \n",
    "    Argument\n",
    "    ----------------\n",
    "    song : str\n",
    "    \n",
    "    Word to lemmatize\n",
    "    \n",
    "    Return\n",
    "    ---------------\n",
    "    Lemmatized song string\n",
    "    \n",
    "    \"\"\"\n",
    "    \n",
    "    sent = TextBlob(song)\n",
    "    tag_dict = {\"J\": 'a', \n",
    "                \"N\": 'n', \n",
    "                \"V\": 'v', \n",
    "                \"R\": 'r'}\n",
    "    words_and_tags = [(w, tag_dict.get(pos[0], 'n')) for w, pos in sent.tags]    \n",
    "    lemmatized_list = [wd.lemmatize(tag) for wd, tag in words_and_tags]\n",
    "    \n",
    "    \n",
    "    return \" \".join(lemmatized_list)"
   ]
  },
  {
   "cell_type": "markdown",
   "id": "01c44da9",
   "metadata": {},
   "source": [
    "## Function to remove punctuations"
   ]
  },
  {
   "cell_type": "code",
   "execution_count": 17,
   "id": "5ec18bb9",
   "metadata": {},
   "outputs": [],
   "source": [
    "def remove_punc(corpus):\n",
    "    new_corpus = []\n",
    "    for song in corpus:\n",
    "        song = \"\".join([ch for ch in song if (ch.isalnum() | ch.isspace())])\n",
    "        new_corpus.append(song)\n",
    "    return new_corpus"
   ]
  },
  {
   "cell_type": "markdown",
   "id": "ea4823dc",
   "metadata": {},
   "source": [
    "## Function to remove new line "
   ]
  },
  {
   "cell_type": "code",
   "execution_count": 18,
   "id": "e2fab6ec",
   "metadata": {},
   "outputs": [],
   "source": [
    "def remove_new_line(corpus):\n",
    "    new_corpus = []\n",
    "    for song in corpus:\n",
    "        song = re.sub('\\n', ' ', song)\n",
    "        song = song.lower()\n",
    "        new_corpus.append(song)\n",
    "    return new_corpus"
   ]
  },
  {
   "cell_type": "markdown",
   "id": "5471434a",
   "metadata": {},
   "source": [
    "## Function to expand contractions (Eg. don't -> do not)"
   ]
  },
  {
   "cell_type": "code",
   "execution_count": 19,
   "id": "46e99d54",
   "metadata": {},
   "outputs": [],
   "source": [
    "def expand_contraction(corpus):\n",
    "    new_corpus = []\n",
    "    for song in corpus:\n",
    "        song = \" \".join([contractions.fix(word) for word in song.split()])\n",
    "        new_corpus.append(song)\n",
    "    return new_corpus"
   ]
  },
  {
   "cell_type": "markdown",
   "id": "035d8897",
   "metadata": {},
   "source": [
    "## Function to lemmatize song based on different methods"
   ]
  },
  {
   "cell_type": "code",
   "execution_count": 20,
   "id": "64e9dd74",
   "metadata": {},
   "outputs": [],
   "source": [
    "def lemmatize_song(corpus, method='nltk'):\n",
    "    new_corpus = []\n",
    "#    try:\n",
    "    if method == 'nltk':\n",
    "        for song in corpus:\n",
    "            lemm = WordNetLemmatizer()\n",
    "            song = \" \".join([lemm.lemmatize(word, pos=get_pos(word)) for word in song.split()])\n",
    "            new_corpus.append(song)\n",
    "    elif method == 'textblob':\n",
    "        for song in corpus:\n",
    "            song = lemmatize_with_postag(song)\n",
    "            new_corpus.append(song)\n",
    "    elif method == 'pattern':\n",
    "        for song in corpus:\n",
    "            song = \" \".join([lemma(word) for word in song.split()])\n",
    "            new_corpus.append(song)\n",
    "        return new_corpus\n",
    "        \n",
    "#    except:\n",
    "#        print(f\"This is not an exceptable method. Use nltk, textblob or pattern\")"
   ]
  },
  {
   "cell_type": "markdown",
   "id": "df9b4a23",
   "metadata": {},
   "source": [
    "## Function to print evaluation metrics for a model"
   ]
  },
  {
   "cell_type": "code",
   "execution_count": 21,
   "id": "f4f79aa6",
   "metadata": {},
   "outputs": [],
   "source": [
    "def print_evaluations(ytrue, ypred, model):\n",
    "    \n",
    "    \"\"\"\n",
    "    Function that compares several scores for a given model \n",
    "    and returns the confusion matrix.\n",
    "    \"\"\"\n",
    "    \n",
    "    print(f'How does model {model} score:')\n",
    "    print(f'The accuracy of the model is: {accuracy_score(ytrue, ypred)}')\n",
    "    print(f'The precision of the model is: {precision_score(ytrue, ypred, average=\"micro\")}')\n",
    "    print(f'The recall of the model is: {recall_score(ytrue, ypred, average=\"micro\")}')\n",
    "    print(f'The f1-score of the model is: {f1_score(ytrue, ypred, average=\"micro\")}')\n",
    "    cm = confusion_matrix(ytrue, ypred)\n",
    "    return cm, precision_score(ytrue, ypred, average=\"micro\"), recall_score(ytrue, ypred, average=\"micro\")"
   ]
  },
  {
   "cell_type": "markdown",
   "id": "5351d130",
   "metadata": {},
   "source": [
    "## Function to plot confusion matrix"
   ]
  },
  {
   "cell_type": "code",
   "execution_count": 22,
   "id": "62d9d18c",
   "metadata": {},
   "outputs": [],
   "source": [
    "def plot_heatmap(cm, model):\n",
    "    \n",
    "    \"\"\"\n",
    "    Function that plots a heatmap based on a correlation matrix\n",
    "    \"\"\"\n",
    "    \n",
    "    fig = plt.figure(figsize=(6, 6))\n",
    "    ax = plt.subplot()\n",
    "    sns.heatmap(cm, annot=True,  cbar=True, \\\n",
    "                cmap = 'YlGn',\\\n",
    "               xticklabels=model.classes_,\\\n",
    "                yticklabels=model.classes_,\\\n",
    "                linecolor='white',\\\n",
    "               linewidth=2, square = True, fmt = '.0f', robust = True); \n",
    "    plt.xlabel('Predicted')\n",
    "    plt.ylabel('Actual')\n",
    "    ax.set_xticklabels(artist_list)"
   ]
  },
  {
   "cell_type": "markdown",
   "id": "657d17c1",
   "metadata": {},
   "source": [
    "## Scrape and save songs for an artist"
   ]
  },
  {
   "cell_type": "code",
   "execution_count": 136,
   "id": "eb84335c",
   "metadata": {},
   "outputs": [],
   "source": [
    "songlist, artist = lyrics_scrapper(\"The rolling stones\")"
   ]
  },
  {
   "cell_type": "code",
   "execution_count": 137,
   "id": "16efbba2",
   "metadata": {},
   "outputs": [],
   "source": [
    "save_songs(songlist, artist)"
   ]
  },
  {
   "cell_type": "markdown",
   "id": "2bc5d34b",
   "metadata": {},
   "source": [
    "## Function to import song lyrics corpus and targets"
   ]
  },
  {
   "cell_type": "code",
   "execution_count": 25,
   "id": "7a8f43da",
   "metadata": {},
   "outputs": [],
   "source": [
    "def import_corpus(artists):\n",
    "    songlinks = []\n",
    "    targets = []\n",
    "    lyrics_corpus = []\n",
    "    artist_list = []\n",
    "    \n",
    "    for artist in artists:\n",
    "        artist_lower = artist.lower()\n",
    "        foldername = \"\".join(artist_lower.split())\n",
    "        abs_path = os.path.abspath(f'./{foldername}/') + '/'\n",
    "        \n",
    "        for song in os.listdir(f'./{foldername}/'):\n",
    "            full_path = abs_path + song\n",
    "            songlinks.append(full_path)\n",
    "            targets.append(artist)\n",
    "        \n",
    "    for song, artist in zip(songlinks, targets):\n",
    "        with open(song, 'r') as file:\n",
    "            text = file.read()\n",
    "            file.close()\n",
    "        if len(text) > 500:\n",
    "            lyrics_corpus.append(text)\n",
    "            artist_list.append(artist)\n",
    "    \n",
    "    \n",
    "    return lyrics_corpus, artist_list   \n",
    "        "
   ]
  },
  {
   "cell_type": "markdown",
   "id": "b66a718f",
   "metadata": {},
   "source": [
    "## Create corpus list and import"
   ]
  },
  {
   "cell_type": "code",
   "execution_count": 26,
   "id": "ecc3b7d8",
   "metadata": {},
   "outputs": [],
   "source": [
    "artist_list = ['kodaline', 'nwa', 'billie eilish'] #, 'the beatles', 'billie eilish', 'michael jackson']"
   ]
  },
  {
   "cell_type": "code",
   "execution_count": 27,
   "id": "a5cc174f",
   "metadata": {},
   "outputs": [],
   "source": [
    "corpus, artists = import_corpus(artist_list)"
   ]
  },
  {
   "cell_type": "code",
   "execution_count": 28,
   "id": "1454c1af",
   "metadata": {},
   "outputs": [
    {
     "data": {
      "text/plain": [
       "(68, 68)"
      ]
     },
     "execution_count": 28,
     "metadata": {},
     "output_type": "execute_result"
    }
   ],
   "source": [
    "len(corpus), len(artists)"
   ]
  },
  {
   "cell_type": "markdown",
   "id": "b4a84632",
   "metadata": {},
   "source": [
    "## Train and test split"
   ]
  },
  {
   "cell_type": "code",
   "execution_count": 29,
   "id": "f8084e0f",
   "metadata": {},
   "outputs": [],
   "source": [
    "X = corpus\n",
    "y = artists"
   ]
  },
  {
   "cell_type": "code",
   "execution_count": 30,
   "id": "92fe7fa1",
   "metadata": {},
   "outputs": [],
   "source": [
    "X_train, X_test, y_train, y_test = train_test_split(X, y, test_size=0.2, random_state=42)"
   ]
  },
  {
   "cell_type": "code",
   "execution_count": 31,
   "id": "0744d078",
   "metadata": {},
   "outputs": [
    {
     "data": {
      "text/plain": [
       "(54, 14, 54, 14)"
      ]
     },
     "execution_count": 31,
     "metadata": {},
     "output_type": "execute_result"
    }
   ],
   "source": [
    "len(X_train), len(X_test), len(y_train), len(y_test)"
   ]
  },
  {
   "cell_type": "code",
   "execution_count": 32,
   "id": "7920d20d",
   "metadata": {},
   "outputs": [
    {
     "data": {
      "text/plain": [
       "['nwa',\n",
       " 'kodaline',\n",
       " 'kodaline',\n",
       " 'kodaline',\n",
       " 'nwa',\n",
       " 'nwa',\n",
       " 'billie eilish',\n",
       " 'kodaline',\n",
       " 'billie eilish',\n",
       " 'kodaline',\n",
       " 'nwa',\n",
       " 'billie eilish',\n",
       " 'nwa',\n",
       " 'kodaline']"
      ]
     },
     "execution_count": 32,
     "metadata": {},
     "output_type": "execute_result"
    }
   ],
   "source": [
    "y_test"
   ]
  },
  {
   "cell_type": "markdown",
   "id": "4e71f49d",
   "metadata": {},
   "source": [
    "## Train data transformation"
   ]
  },
  {
   "cell_type": "code",
   "execution_count": 33,
   "id": "41039d20",
   "metadata": {},
   "outputs": [
    {
     "data": {
      "text/plain": [
       "'Bite my tongue, bide my time\\nWearing a warning sign\\nWait ′til the world is mine\\nVisions I vandalize\\nCold in my kingdom size\\nFell for these ocean eyes\\n\\nYou should see me in a crown\\nI\\'m gonna run this nothing town\\nWatch me make ′em bow\\nOne by, one by one, one by, one by\\nYou should see me in a crown\\nYour silence is my favorite sound\\nWatch me make \\'em bow\\nOne by, one by one, one by, one by one\\n\\n\\n\\n\\nCount my cards, watch them fall\\nBlood on a marble wall\\nI like the way they all\\nScream\\nTell me which one is worse\\nLiving or dying first\\nSleeping inside a hearse\\n(I don\\'t dream)\\n\\nYou say, \"Come over, baby\\nI think you′re pretty\"\\nI′m okay, I\\'m not your baby\\nIf you think I′m pretty\\n\\nYou should see me in a crown\\nI\\'m gonna run this nothing town\\nWatch me make ′em bow\\nOne by, one by one, one by, one by\\nYou should see me in a crown\\nYour silence is my favorite sound\\nWatch me make \\'em bow\\nOne by, one by one, one by, one by one\\n\\n\\n\\n\\nCrown\\nI′m gonna run this nothing town\\nWatch me make \\'em bow\\nOne by, one by one, one by, one by\\nYou should see me in a crown\\nYour silence is my favorite sound\\nWatch me make \\'em bow\\nOne by, one by one, one by, one by one'"
      ]
     },
     "execution_count": 33,
     "metadata": {},
     "output_type": "execute_result"
    }
   ],
   "source": [
    "X_train[0]"
   ]
  },
  {
   "cell_type": "code",
   "execution_count": 34,
   "id": "129a0e4f",
   "metadata": {},
   "outputs": [
    {
     "data": {
      "text/plain": [
       "'Bite my tongue bide my time\\nWearing a warning sign\\nWait til the world is mine\\nVisions I vandalize\\nCold in my kingdom size\\nFell for these ocean eyes\\n\\nYou should see me in a crown\\nIm gonna run this nothing town\\nWatch me make em bow\\nOne by one by one one by one by\\nYou should see me in a crown\\nYour silence is my favorite sound\\nWatch me make em bow\\nOne by one by one one by one by one\\n\\n\\n\\n\\nCount my cards watch them fall\\nBlood on a marble wall\\nI like the way they all\\nScream\\nTell me which one is worse\\nLiving or dying first\\nSleeping inside a hearse\\nI dont dream\\n\\nYou say Come over baby\\nI think youre pretty\\nIm okay Im not your baby\\nIf you think Im pretty\\n\\nYou should see me in a crown\\nIm gonna run this nothing town\\nWatch me make em bow\\nOne by one by one one by one by\\nYou should see me in a crown\\nYour silence is my favorite sound\\nWatch me make em bow\\nOne by one by one one by one by one\\n\\n\\n\\n\\nCrown\\nIm gonna run this nothing town\\nWatch me make em bow\\nOne by one by one one by one by\\nYou should see me in a crown\\nYour silence is my favorite sound\\nWatch me make em bow\\nOne by one by one one by one by one'"
      ]
     },
     "execution_count": 34,
     "metadata": {},
     "output_type": "execute_result"
    }
   ],
   "source": [
    "new_corpus = remove_punc(X_train)\n",
    "new_corpus[0]"
   ]
  },
  {
   "cell_type": "code",
   "execution_count": 35,
   "id": "61c2ea0e",
   "metadata": {},
   "outputs": [
    {
     "data": {
      "text/plain": [
       "'bite my tongue bide my time wearing a warning sign wait til the world is mine visions i vandalize cold in my kingdom size fell for these ocean eyes  you should see me in a crown im gonna run this nothing town watch me make em bow one by one by one one by one by you should see me in a crown your silence is my favorite sound watch me make em bow one by one by one one by one by one     count my cards watch them fall blood on a marble wall i like the way they all scream tell me which one is worse living or dying first sleeping inside a hearse i dont dream  you say come over baby i think youre pretty im okay im not your baby if you think im pretty  you should see me in a crown im gonna run this nothing town watch me make em bow one by one by one one by one by you should see me in a crown your silence is my favorite sound watch me make em bow one by one by one one by one by one     crown im gonna run this nothing town watch me make em bow one by one by one one by one by you should see me in a crown your silence is my favorite sound watch me make em bow one by one by one one by one by one'"
      ]
     },
     "execution_count": 35,
     "metadata": {},
     "output_type": "execute_result"
    }
   ],
   "source": [
    "new_corpus = remove_new_line(new_corpus)\n",
    "new_corpus[0]"
   ]
  },
  {
   "cell_type": "code",
   "execution_count": 36,
   "id": "fae50767",
   "metadata": {},
   "outputs": [
    {
     "data": {
      "text/plain": [
       "'bite my tongue bide my time wearing a warning sign wait til the world is mine visions i vandalize cold in my kingdom size fell for these ocean eyes you should see me in a crown i am going to run this nothing town watch me make them bow one by one by one one by one by you should see me in a crown your silence is my favorite sound watch me make them bow one by one by one one by one by one count my cards watch them fall blood on a marble wall i like the way they all scream tell me which one is worse living or dying first sleeping inside a hearse i do not dream you say come over baby i think you are pretty i am okay i am not your baby if you think i am pretty you should see me in a crown i am going to run this nothing town watch me make them bow one by one by one one by one by you should see me in a crown your silence is my favorite sound watch me make them bow one by one by one one by one by one crown i am going to run this nothing town watch me make them bow one by one by one one by one by you should see me in a crown your silence is my favorite sound watch me make them bow one by one by one one by one by one'"
      ]
     },
     "execution_count": 36,
     "metadata": {},
     "output_type": "execute_result"
    }
   ],
   "source": [
    "new_corpus = expand_contraction(new_corpus)\n",
    "new_corpus[0]"
   ]
  },
  {
   "cell_type": "code",
   "execution_count": 37,
   "id": "817e104a",
   "metadata": {},
   "outputs": [],
   "source": [
    "#nltk_corpus = lemmatize_song(corpus=new_corpus, method='nltk')"
   ]
  },
  {
   "cell_type": "code",
   "execution_count": 38,
   "id": "ed86bce1",
   "metadata": {},
   "outputs": [],
   "source": [
    "#textblob_corpus = lemmatize_song(corpus=new_corpus, method='textblob')\n",
    "#textblob_corpus[0]"
   ]
  },
  {
   "cell_type": "code",
   "execution_count": 40,
   "id": "4fd5f3e1",
   "metadata": {},
   "outputs": [
    {
     "data": {
      "text/plain": [
       "'bite my tongue bide my time wear a warn sign wait til the world be mine vision i vandalize cold in my kingdom size fall for these ocean eye you should see me in a crown i be go to run thi nothe town watch me make them bow one by one by one one by one by you should see me in a crown your silence be my favorite sound watch me make them bow one by one by one one by one by one count my card watch them fall blood on a marble wall i like the way they all scream tell me which one be worse live or die first sleep inside a hearse i do not dream you say come over baby i think you be pretty i be okay i be not your baby if you think i be pretty you should see me in a crown i be go to run thi nothe town watch me make them bow one by one by one one by one by you should see me in a crown your silence be my favorite sound watch me make them bow one by one by one one by one by one crown i be go to run thi nothe town watch me make them bow one by one by one one by one by you should see me in a crown your silence be my favorite sound watch me make them bow one by one by one one by one by one'"
      ]
     },
     "execution_count": 40,
     "metadata": {},
     "output_type": "execute_result"
    }
   ],
   "source": [
    "pattern_corpus = lemmatize_song(corpus=new_corpus, method='pattern')\n",
    "pattern_corpus[0]"
   ]
  },
  {
   "cell_type": "code",
   "execution_count": 41,
   "id": "05f3371a",
   "metadata": {},
   "outputs": [],
   "source": [
    "cv = CountVectorizer(stop_words='english')"
   ]
  },
  {
   "cell_type": "code",
   "execution_count": 42,
   "id": "9c36984b",
   "metadata": {},
   "outputs": [],
   "source": [
    "vec_song = cv.fit_transform(pattern_corpus)"
   ]
  },
  {
   "cell_type": "code",
   "execution_count": 43,
   "id": "83f8bad7",
   "metadata": {},
   "outputs": [
    {
     "data": {
      "text/plain": [
       "<54x1929 sparse matrix of type '<class 'numpy.int64'>'\n",
       "\twith 4866 stored elements in Compressed Sparse Row format>"
      ]
     },
     "execution_count": 43,
     "metadata": {},
     "output_type": "execute_result"
    }
   ],
   "source": [
    "vec_song"
   ]
  },
  {
   "cell_type": "code",
   "execution_count": 44,
   "id": "204ad5c3",
   "metadata": {},
   "outputs": [],
   "source": [
    "tf = TfidfTransformer()"
   ]
  },
  {
   "cell_type": "code",
   "execution_count": 45,
   "id": "ac1c5b23",
   "metadata": {},
   "outputs": [],
   "source": [
    "vec_song_new = tf.fit_transform(vec_song)"
   ]
  },
  {
   "cell_type": "code",
   "execution_count": 46,
   "id": "2bfccc19",
   "metadata": {},
   "outputs": [
    {
     "data": {
      "text/plain": [
       "<54x1929 sparse matrix of type '<class 'numpy.float64'>'\n",
       "\twith 4866 stored elements in Compressed Sparse Row format>"
      ]
     },
     "execution_count": 46,
     "metadata": {},
     "output_type": "execute_result"
    }
   ],
   "source": [
    "vec_song_new"
   ]
  },
  {
   "cell_type": "markdown",
   "id": "5b9bd2e3",
   "metadata": {},
   "source": [
    "## Test data transformation"
   ]
  },
  {
   "cell_type": "code",
   "execution_count": 47,
   "id": "db888483",
   "metadata": {},
   "outputs": [],
   "source": [
    "test_corpus = remove_punc(X_test)"
   ]
  },
  {
   "cell_type": "code",
   "execution_count": 48,
   "id": "64f54305",
   "metadata": {},
   "outputs": [],
   "source": [
    "test_corpus = remove_new_line(test_corpus)"
   ]
  },
  {
   "cell_type": "code",
   "execution_count": 49,
   "id": "1bf4f6cf",
   "metadata": {},
   "outputs": [],
   "source": [
    "test_corpus = expand_contraction(test_corpus)"
   ]
  },
  {
   "cell_type": "code",
   "execution_count": 50,
   "id": "8a644604",
   "metadata": {},
   "outputs": [],
   "source": [
    "test_corpus = lemmatize_song(test_corpus, method='pattern')"
   ]
  },
  {
   "cell_type": "code",
   "execution_count": 51,
   "id": "f9924ac5",
   "metadata": {},
   "outputs": [
    {
     "data": {
      "text/plain": [
       "<14x1929 sparse matrix of type '<class 'numpy.int64'>'\n",
       "\twith 926 stored elements in Compressed Sparse Row format>"
      ]
     },
     "execution_count": 51,
     "metadata": {},
     "output_type": "execute_result"
    }
   ],
   "source": [
    "vec_test = cv.transform(test_corpus)\n",
    "vec_test"
   ]
  },
  {
   "cell_type": "code",
   "execution_count": 52,
   "id": "6b499d37",
   "metadata": {},
   "outputs": [
    {
     "data": {
      "text/plain": [
       "<14x1929 sparse matrix of type '<class 'numpy.float64'>'\n",
       "\twith 926 stored elements in Compressed Sparse Row format>"
      ]
     },
     "execution_count": 52,
     "metadata": {},
     "output_type": "execute_result"
    }
   ],
   "source": [
    "vec_test_new = tf.transform(vec_test)\n",
    "vec_test_new"
   ]
  },
  {
   "cell_type": "markdown",
   "id": "eb541e9c",
   "metadata": {},
   "source": [
    "## Modelling Naive Bayes"
   ]
  },
  {
   "cell_type": "code",
   "execution_count": 53,
   "id": "fe21584f",
   "metadata": {},
   "outputs": [],
   "source": [
    "bayes_model = MultinomialNB()"
   ]
  },
  {
   "cell_type": "code",
   "execution_count": 54,
   "id": "207ab5fc",
   "metadata": {},
   "outputs": [
    {
     "data": {
      "text/plain": [
       "MultinomialNB()"
      ]
     },
     "execution_count": 54,
     "metadata": {},
     "output_type": "execute_result"
    }
   ],
   "source": [
    "bayes_model.fit(vec_song_new, y_train)"
   ]
  },
  {
   "cell_type": "code",
   "execution_count": 55,
   "id": "543688e9",
   "metadata": {},
   "outputs": [
    {
     "data": {
      "text/plain": [
       "0.9814814814814815"
      ]
     },
     "execution_count": 55,
     "metadata": {},
     "output_type": "execute_result"
    }
   ],
   "source": [
    "bayes_model.score(vec_song_new, y_train)"
   ]
  },
  {
   "cell_type": "code",
   "execution_count": 56,
   "id": "ddbc848a",
   "metadata": {},
   "outputs": [],
   "source": [
    "y_pred_train = bayes_model.predict(vec_song_new)"
   ]
  },
  {
   "cell_type": "code",
   "execution_count": 57,
   "id": "eaf9bdb5",
   "metadata": {},
   "outputs": [
    {
     "data": {
      "text/plain": [
       "array([[12,  0,  1],\n",
       "       [ 0, 18,  0],\n",
       "       [ 0,  0, 23]])"
      ]
     },
     "execution_count": 57,
     "metadata": {},
     "output_type": "execute_result"
    }
   ],
   "source": [
    "confusion_matrix(y_train, y_pred_train)"
   ]
  },
  {
   "cell_type": "code",
   "execution_count": 58,
   "id": "d03a2d94",
   "metadata": {},
   "outputs": [],
   "source": [
    "y_pred = bayes_model.predict(vec_test_new)"
   ]
  },
  {
   "cell_type": "code",
   "execution_count": 61,
   "id": "99936adf",
   "metadata": {},
   "outputs": [
    {
     "data": {
      "text/plain": [
       "array(['nwa', 'kodaline', 'nwa', 'nwa', 'nwa', 'nwa', 'billie eilish',\n",
       "       'kodaline', 'nwa', 'kodaline', 'nwa', 'nwa', 'nwa', 'kodaline'],\n",
       "      dtype='<U13')"
      ]
     },
     "execution_count": 61,
     "metadata": {},
     "output_type": "execute_result"
    }
   ],
   "source": [
    "y_pred"
   ]
  },
  {
   "cell_type": "code",
   "execution_count": 63,
   "id": "89bdf4ff",
   "metadata": {},
   "outputs": [
    {
     "data": {
      "text/plain": [
       "0.7142857142857143"
      ]
     },
     "execution_count": 63,
     "metadata": {},
     "output_type": "execute_result"
    }
   ],
   "source": [
    "bayes_model.score(vec_test_new, y_test)"
   ]
  },
  {
   "cell_type": "code",
   "execution_count": 64,
   "id": "ef30a964",
   "metadata": {},
   "outputs": [
    {
     "name": "stdout",
     "output_type": "stream",
     "text": [
      "How does model bayes_model score:\n",
      "The accuracy of the model is: 0.7142857142857143\n",
      "The precision of the model is: 0.7142857142857143\n",
      "The recall of the model is: 0.7142857142857143\n",
      "The f1-score of the model is: 0.7142857142857143\n"
     ]
    }
   ],
   "source": [
    "cm, precision, recall = print_evaluations(y_test, y_pred, 'bayes_model')"
   ]
  },
  {
   "cell_type": "code",
   "execution_count": 128,
   "id": "256f99fe",
   "metadata": {},
   "outputs": [
    {
     "data": {
      "text/plain": [
       "Text(114.0, 0.5, 'Actual')"
      ]
     },
     "execution_count": 128,
     "metadata": {},
     "output_type": "execute_result"
    },
    {
     "data": {
      "image/png": "[encoded data removed]",
      "text/plain": [
       "<Figure size 1080x720 with 2 Axes>"
      ]
     },
     "metadata": {
      "needs_background": "light"
     },
     "output_type": "display_data"
    }
   ],
   "source": [
    "plt.figure(figsize=(15, 10))\n",
    "sns.heatmap(confusion_matrix(y_test, y_pred), annot=True, fmt='.2g', cmap='YlGn', \n",
    "            xticklabels=bayes_model.classes_, \n",
    "           yticklabels=bayes_model.classes_)\n",
    "plt.xlabel('Predicted')\n",
    "plt.ylabel('Actual')"
   ]
  },
  {
   "cell_type": "markdown",
   "id": "13e7f715",
   "metadata": {},
   "source": [
    "## Log Model"
   ]
  },
  {
   "cell_type": "code",
   "execution_count": 66,
   "id": "d2e1b437",
   "metadata": {},
   "outputs": [],
   "source": [
    "log_model = LogisticRegression()"
   ]
  },
  {
   "cell_type": "code",
   "execution_count": 67,
   "id": "be2a8e1c",
   "metadata": {},
   "outputs": [
    {
     "data": {
      "text/plain": [
       "LogisticRegression()"
      ]
     },
     "execution_count": 67,
     "metadata": {},
     "output_type": "execute_result"
    }
   ],
   "source": [
    "log_model.fit(vec_song_new, y_train)"
   ]
  },
  {
   "cell_type": "code",
   "execution_count": 68,
   "id": "6fddc6ef",
   "metadata": {},
   "outputs": [
    {
     "data": {
      "text/plain": [
       "1.0"
      ]
     },
     "execution_count": 68,
     "metadata": {},
     "output_type": "execute_result"
    }
   ],
   "source": [
    "log_model.score(vec_song_new, y_train)"
   ]
  },
  {
   "cell_type": "code",
   "execution_count": 69,
   "id": "85d63633",
   "metadata": {},
   "outputs": [],
   "source": [
    "y_pred_log = log_model.predict(vec_test_new)"
   ]
  },
  {
   "cell_type": "code",
   "execution_count": 70,
   "id": "1b4feeed",
   "metadata": {},
   "outputs": [
    {
     "data": {
      "text/plain": [
       "0.9285714285714286"
      ]
     },
     "execution_count": 70,
     "metadata": {},
     "output_type": "execute_result"
    }
   ],
   "source": [
    "log_model.score(vec_test_new, y_test)"
   ]
  },
  {
   "cell_type": "code",
   "execution_count": 71,
   "id": "80f3b6ae",
   "metadata": {},
   "outputs": [
    {
     "name": "stdout",
     "output_type": "stream",
     "text": [
      "How does model log_model score:\n",
      "The accuracy of the model is: 0.9285714285714286\n",
      "The precision of the model is: 0.9285714285714286\n",
      "The recall of the model is: 0.9285714285714286\n",
      "The f1-score of the model is: 0.9285714285714286\n"
     ]
    }
   ],
   "source": [
    "cm, precision, recall = print_evaluations(y_test, y_pred_log, 'log_model')"
   ]
  },
  {
   "cell_type": "code",
   "execution_count": 135,
   "id": "97d34473",
   "metadata": {
    "scrolled": true
   },
   "outputs": [
    {
     "data": {
      "text/plain": [
       "Text(51.0, 0.5, 'Actual')"
      ]
     },
     "execution_count": 135,
     "metadata": {},
     "output_type": "execute_result"
    },
    {
     "data": {
      "image/png": "[encoded data removed]",
      "text/plain": [
       "<Figure size 576x576 with 2 Axes>"
      ]
     },
     "metadata": {
      "needs_background": "light"
     },
     "output_type": "display_data"
    }
   ],
   "source": [
    "plt.figure(figsize=(8, 8))\n",
    "sns.heatmap(confusion_matrix(y_test, y_pred_log), annot=True, fmt='.2g', cmap='YlGn',\n",
    "           xticklabels=log_model.classes_, \n",
    "           yticklabels=log_model.classes_)\n",
    "plt.xlabel('Predicted')\n",
    "plt.ylabel('Actual')"
   ]
  },
  {
   "cell_type": "markdown",
   "id": "4030e75f",
   "metadata": {},
   "source": [
    "## GradientBoosting Classifier"
   ]
  },
  {
   "cell_type": "code",
   "execution_count": 120,
   "id": "445ab554",
   "metadata": {},
   "outputs": [],
   "source": [
    "boost_model = GradientBoostingClassifier(learning_rate=0.1, n_estimators=500, max_depth=5)"
   ]
  },
  {
   "cell_type": "code",
   "execution_count": 121,
   "id": "4995e40e",
   "metadata": {},
   "outputs": [
    {
     "data": {
      "text/plain": [
       "GradientBoostingClassifier(max_depth=5, n_estimators=500)"
      ]
     },
     "execution_count": 121,
     "metadata": {},
     "output_type": "execute_result"
    }
   ],
   "source": [
    "boost_model.fit(vec_song_new, y_train)"
   ]
  },
  {
   "cell_type": "code",
   "execution_count": 122,
   "id": "0814a6ba",
   "metadata": {},
   "outputs": [
    {
     "data": {
      "text/plain": [
       "1.0"
      ]
     },
     "execution_count": 122,
     "metadata": {},
     "output_type": "execute_result"
    }
   ],
   "source": [
    "boost_model.score(vec_song_new, y_train)"
   ]
  },
  {
   "cell_type": "code",
   "execution_count": 123,
   "id": "469aa1e9",
   "metadata": {},
   "outputs": [],
   "source": [
    "y_pred_boost = boost_model.predict(vec_test_new)"
   ]
  },
  {
   "cell_type": "code",
   "execution_count": 124,
   "id": "5e899069",
   "metadata": {},
   "outputs": [
    {
     "data": {
      "text/plain": [
       "0.9285714285714286"
      ]
     },
     "execution_count": 124,
     "metadata": {},
     "output_type": "execute_result"
    }
   ],
   "source": [
    "boost_model.score(vec_test_new, y_test)"
   ]
  },
  {
   "cell_type": "code",
   "execution_count": 125,
   "id": "d992901b",
   "metadata": {},
   "outputs": [
    {
     "name": "stdout",
     "output_type": "stream",
     "text": [
      "How does model boost_model score:\n",
      "The accuracy of the model is: 0.9285714285714286\n",
      "The precision of the model is: 0.9285714285714286\n",
      "The recall of the model is: 0.9285714285714286\n",
      "The f1-score of the model is: 0.9285714285714286\n"
     ]
    }
   ],
   "source": [
    "cm, precision, recall = print_evaluations(y_test, y_pred_boost, 'boost_model')"
   ]
  },
  {
   "cell_type": "code",
   "execution_count": 127,
   "id": "e661ed77",
   "metadata": {},
   "outputs": [
    {
     "data": {
      "text/plain": [
       "Text(114.0, 0.5, 'Actual')"
      ]
     },
     "execution_count": 127,
     "metadata": {},
     "output_type": "execute_result"
    },
    {
     "data": {
      "image/png": "[encoded data removed]",
      "text/plain": [
       "<Figure size 1080x720 with 2 Axes>"
      ]
     },
     "metadata": {
      "needs_background": "light"
     },
     "output_type": "display_data"
    }
   ],
   "source": [
    "plt.figure(figsize=(15, 10))\n",
    "sns.heatmap(confusion_matrix(y_test, y_pred_boost), annot=True, fmt='.2g', cmap='YlGn', \n",
    "            xticklabels=boost_model.classes_, \n",
    "           yticklabels=boost_model.classes_)\n",
    "plt.xlabel('Predicted')\n",
    "plt.ylabel('Actual')"
   ]
  },
  {
   "cell_type": "code",
   "execution_count": null,
   "id": "e5394e92",
   "metadata": {},
   "outputs": [],
   "source": []
  },
  {
   "cell_type": "code",
   "execution_count": null,
   "id": "e5a8e383",
   "metadata": {},
   "outputs": [],
   "source": []
  },
  {
   "cell_type": "code",
   "execution_count": null,
   "id": "ae98d1ec",
   "metadata": {},
   "outputs": [],
   "source": []
  },
  {
   "cell_type": "code",
   "execution_count": null,
   "id": "0dde0e46",
   "metadata": {},
   "outputs": [],
   "source": []
  },
  {
   "cell_type": "code",
   "execution_count": null,
   "id": "5a8c8387",
   "metadata": {},
   "outputs": [],
   "source": []
  }
 ],
 "metadata": {
  "kernelspec": {
   "display_name": "Python 3 (ipykernel)",
   "language": "python",
   "name": "python3"
  },
  "language_info": {
   "codemirror_mode": {
    "name": "ipython",
    "version": 3
   },
   "file_extension": ".py",
   "mimetype": "text/x-python",
   "name": "python",
   "nbconvert_exporter": "python",
   "pygments_lexer": "ipython3",
   "version": "3.9.12"
  }
 },
 "nbformat": 4,
 "nbformat_minor": 5
}
