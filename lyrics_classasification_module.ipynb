{
 "cells": [
  {
   "cell_type": "markdown",
   "id": "9d2230e3",
   "metadata": {},
   "source": [
    "## Steps to automate\n",
    "\n",
    "* Get Text Corpus\n",
    "* Remove punctuations\n",
    "* Remove \\n\n",
    "* Make lower case\n",
    "* tokenize\n",
    "* lemmantize (choose method)\n",
    "* Vectorize\n",
    "* Remove stop words (try)\n",
    "* TF-IDF Normalization\n",
    "* transform, train and fit model (choose model)\n",
    "* transform and predict test set\n",
    "* Return prediction"
   ]
  },
  {
   "cell_type": "code",
   "execution_count": 37,
   "id": "b013d764",
   "metadata": {},
   "outputs": [],
   "source": [
    "from bs4 import BeautifulSoup\n",
    "\n",
    "import re\n",
    "\n",
    "import os\n",
    "\n",
    "import nltk \n",
    "import contractions\n",
    "\n",
    "\n",
    "import string\n",
    "import pattern\n",
    "from pattern.en import lemma, lexeme\n",
    "\n",
    "from nltk import pos_tag\n",
    "from textblob import TextBlob, Word\n",
    "\n",
    "from nltk.stem import WordNetLemmatizer\n",
    "from nltk.tokenize import TreebankWordTokenizer\n",
    "from nltk.tokenize import word_tokenize\n",
    "from nltk.stem import wordnet"
   ]
  },
  {
   "cell_type": "code",
   "execution_count": 2,
   "id": "c6b88822",
   "metadata": {},
   "outputs": [],
   "source": [
    "kodaline_path = os.path.abspath('./Kodaline/') + '/'"
   ]
  },
  {
   "cell_type": "code",
   "execution_count": 3,
   "id": "80679bae",
   "metadata": {},
   "outputs": [],
   "source": [
    "nwa_path = os.path.abspath('./NWA/') + '/'"
   ]
  },
  {
   "cell_type": "code",
   "execution_count": 4,
   "id": "5c2bc34f",
   "metadata": {},
   "outputs": [],
   "source": [
    "songlinks = [ kodaline_path + song for song in os.listdir('./Kodaline/')[:20]]"
   ]
  },
  {
   "cell_type": "code",
   "execution_count": 5,
   "id": "ba763506",
   "metadata": {},
   "outputs": [],
   "source": [
    "nwa = [ nwa_path + song for song in os.listdir('./NWA/')[:20]]"
   ]
  },
  {
   "cell_type": "code",
   "execution_count": 6,
   "id": "b3dfd797",
   "metadata": {},
   "outputs": [],
   "source": [
    "for song in nwa:\n",
    "    songlinks.append(song)"
   ]
  },
  {
   "cell_type": "code",
   "execution_count": 7,
   "id": "582f9442",
   "metadata": {},
   "outputs": [],
   "source": [
    "artist = ['Kodaline']*20 + ['NWA']*20"
   ]
  },
  {
   "cell_type": "code",
   "execution_count": 8,
   "id": "62732f12",
   "metadata": {},
   "outputs": [],
   "source": [
    "lyrics_corpus = []\n",
    "for song in songlinks:\n",
    "    with open(song, 'r') as file:\n",
    "        text = file.read()\n",
    "        file.close()\n",
    "    lyrics_corpus.append(text)"
   ]
  },
  {
   "cell_type": "code",
   "execution_count": 9,
   "id": "aae9f881",
   "metadata": {},
   "outputs": [],
   "source": [
    "lemm = WordNetLemmatizer()"
   ]
  },
  {
   "cell_type": "code",
   "execution_count": 10,
   "id": "eed372bd",
   "metadata": {},
   "outputs": [],
   "source": [
    "songtext = \"\".join([ch for ch in lyrics_corpus[0] if ch not in string.punctuation])"
   ]
  },
  {
   "cell_type": "code",
   "execution_count": 11,
   "id": "11a5bab9",
   "metadata": {},
   "outputs": [],
   "source": [
    "songtext = re.sub('\\n', ' ', songtext)"
   ]
  },
  {
   "cell_type": "code",
   "execution_count": 25,
   "id": "09d9c0e9",
   "metadata": {},
   "outputs": [],
   "source": [
    "songtext = songtext.lower()"
   ]
  },
  {
   "cell_type": "code",
   "execution_count": 26,
   "id": "5685d3b0",
   "metadata": {},
   "outputs": [],
   "source": [
    "def get_wordnet_pos(word):\n",
    "    \"\"\"Map POS tag to first character lemmatize() accepts\"\"\"\n",
    "    tag = nltk.pos_tag([word])[0][1][0].upper()\n",
    "    tag_dict = {\"J\": wordnet.wn.ADJ,\n",
    "                \"N\": wordnet.wn.NOUN,\n",
    "                \"V\": wordnet.wn.VERB,\n",
    "                \"R\": wordnet.wn.ADV}\n",
    "\n",
    "    return tag_dict.get(tag, wordnet.wn.NOUN)"
   ]
  },
  {
   "cell_type": "code",
   "execution_count": 27,
   "id": "41497cd4",
   "metadata": {},
   "outputs": [],
   "source": [
    "lemme_nltk = \" \".join([lemm.lemmatize(word, pos=get_wordnet_pos(word)) for word in songtext.split() ])"
   ]
  },
  {
   "cell_type": "code",
   "execution_count": 28,
   "id": "753264d2",
   "metadata": {},
   "outputs": [],
   "source": [
    "sent = TextBlob(songtext)"
   ]
  },
  {
   "cell_type": "code",
   "execution_count": 29,
   "id": "2f2a6aa4",
   "metadata": {},
   "outputs": [],
   "source": [
    "def lemmatize_with_postag(song):\n",
    "    sent = TextBlob(song)\n",
    "    tag_dict = {\"J\": 'a', \n",
    "                \"N\": 'n', \n",
    "                \"V\": 'v', \n",
    "                \"R\": 'r'}\n",
    "    words_and_tags = [(w, tag_dict.get(pos[0], 'n')) for w, pos in sent.tags]    \n",
    "    lemmatized_list = [wd.lemmatize(tag) for wd, tag in words_and_tags]\n",
    "    return \" \".join(lemmatized_list)"
   ]
  },
  {
   "cell_type": "code",
   "execution_count": 30,
   "id": "b8bf49c5",
   "metadata": {},
   "outputs": [],
   "source": [
    "lemme_blob = lemmatize_with_postag(songtext)"
   ]
  },
  {
   "cell_type": "code",
   "execution_count": 31,
   "id": "9f00d7b3",
   "metadata": {},
   "outputs": [],
   "source": [
    "tokens = TreebankWordTokenizer()"
   ]
  },
  {
   "cell_type": "code",
   "execution_count": 32,
   "id": "227e07ce",
   "metadata": {},
   "outputs": [],
   "source": [
    "song_tokens = tokens.tokenize(songtext)"
   ]
  },
  {
   "cell_type": "code",
   "execution_count": 33,
   "id": "108f4065",
   "metadata": {},
   "outputs": [],
   "source": [
    "lemme_pattern = \" \".join([lemma(word) for word in songtext.split()])"
   ]
  },
  {
   "cell_type": "code",
   "execution_count": 34,
   "id": "724ab1c8",
   "metadata": {},
   "outputs": [
    {
     "data": {
      "text/plain": [
       "'i don′t wan na be the one to try be someone else be not my style theres a miss piece i′m try to find i dont know how when you many dont twice sleep i don′t need no sleep have such a week i just wan na take off fly high high than the bird word be only word take my hand and go there with me there′s no hide and seek i see you see me whats the mystery give it up let go somewhere in between feel make believe you′ve get what i need give it up let go you keep on ask why youre still defy i′m hang on to see if we collide and we dont need to know the place or time as long a i be yours and you be mine sleep i don′t need no sleep have such a week i just wan na take off fly high high than the bird word be only word take my hand and go there with me theres no hide and seek i see you see me whats the mystery give it up let go somewhere in between feel make believe you′ve get what i need give it up let go there′s no hide and seek i see you see me whats the mystery give it up let go somewhere in between feel make believe you′ve get what i need give it up let go sleep i dont need no sleep have such a week i just wan na take off fly high high than the bird word be only word take my hand and go there with me oh oh oh oh oh oh there′s no hide and seek i see you see me whats the mystery give it up let go somewhere in between feel make believe you′ve get what i need give it up let go'"
      ]
     },
     "execution_count": 34,
     "metadata": {},
     "output_type": "execute_result"
    }
   ],
   "source": [
    "lemme_blob"
   ]
  },
  {
   "cell_type": "code",
   "execution_count": 35,
   "id": "bd3e67c6",
   "metadata": {},
   "outputs": [
    {
     "data": {
      "text/plain": [
       "'i don′t wanna be the one to try be someone else be not my style there a miss piece i′m try to find i dont know how when you many dont twice sleep i don′t need no sleep have such a week i just wanna take off fly high high than the bird word be only word take my hand and go there with me there′s no hide and seek i see you see me whats the mystery give it up let go somewhere in between feel make believe you′ve get what i need give it up let go you keep on ask why youre still defy i′m hang on to see if we collide and we dont need to know the place or time a long a i be yours and you be mine sleep i don′t need no sleep have such a week i just wanna take off fly high high than the bird word be only word take my hand and go there with me there no hide and seek i see you see me whats the mystery give it up let go somewhere in between feel make believe you′ve get what i need give it up let go there′s no hide and seek i see you see me whats the mystery give it up let go somewhere in between feel make believe you′ve get what i need give it up let go sleep i dont need no sleep have such a week i just wanna take off fly high high than the bird word be only word take my hand and go there with me oh oh oh oh oh oh there′s no hide and seek i see you see me whats the mystery give it up let go somewhere in between feel make believe you′ve get what i need give it up let go'"
      ]
     },
     "execution_count": 35,
     "metadata": {},
     "output_type": "execute_result"
    }
   ],
   "source": [
    "lemme_nltk"
   ]
  },
  {
   "cell_type": "code",
   "execution_count": 36,
   "id": "ffff5451",
   "metadata": {},
   "outputs": [
    {
     "data": {
      "text/plain": [
       "'i don′t wanna be the one to try be someone else be not my style there a miss piece i′m try to find i dont know how when you many dont twice sleep i don′t need no sleep have such a week i just wanna take off fly high higher than the bird word be only word take my hand and go there with me there′ no hide and seek i see you see me what the mystery give it up let go somewhere in between feel make believe you′ve get what i need give it up let go you keep on ask why youre still defy i′m hang on to see if we collide and we dont need to know the place or time a long a i be your and you be mine sleep i don′t need no sleep have such a week i just wanna take off fly high higher than the bird word be only word take my hand and go there with me there no hide and seek i see you see me what the mystery give it up let go somewhere in between feel make believe you′ve get what i need give it up let go there′ no hide and seek i see you see me what the mystery give it up let go somewhere in between feel make believe you′ve get what i need give it up let go sleep i dont need no sleep have such a week i just wanna take off fly high higher than the bird word be only word take my hand and go there with me oh oh oh oh oh oh there′ no hide and seek i see you see me what the mystery give it up let go somewhere in between feel make believe you′ve get what i need give it up let go'"
      ]
     },
     "execution_count": 36,
     "metadata": {},
     "output_type": "execute_result"
    }
   ],
   "source": [
    "lemme_pattern"
   ]
  }
 ],
 "metadata": {
  "kernelspec": {
   "display_name": "Python 3 (ipykernel)",
   "language": "python",
   "name": "python3"
  },
  "language_info": {
   "codemirror_mode": {
    "name": "ipython",
    "version": 3
   },
   "file_extension": ".py",
   "mimetype": "text/x-python",
   "name": "python",
   "nbconvert_exporter": "python",
   "pygments_lexer": "ipython3",
   "version": "3.9.12"
  }
 },
 "nbformat": 4,
 "nbformat_minor": 5
}
